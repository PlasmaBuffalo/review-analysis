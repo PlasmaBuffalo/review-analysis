{
 "cells": [
  {
   "cell_type": "markdown",
   "metadata": {},
   "source": [
    "# Review Analysis and Classification for Battlefield 2042\n",
    "\n",
    "By Liam Zalubas\n",
    "\n",
    "## Introduction: \n",
    "\n",
    "The Battlefield franchise of video games is generally known for combining multiplayer infantry and vehicle combat in dynamic and destructible environments. Battlefield 2042 is the latest entry in the series, having been released in October of 2021. The game is available on console and PC hardware, and is available on the Steam, Origin, and the Epic Games digital marketplaces. From this point forward, I will be referring to the Steam version of the game, as it is the version I was able to collect data on most readily. Because of this, any conclusions drawn from this project may not be applicable to the game as a whole.\n",
    "\n",
    "In terms of player reception, Battlefield 2042 initially released to overwhelmingly negative reviews, but has been updated consistently since release. Over two years after its release, the game has seen a significant increase in positive reviews, bringing its overall review score from \"Mostly Negative\" (~31% positive) to \"Mostly Positive\" (~71% positive).\n",
    "\n",
    "This project aims to analyze the reviews of Battlefield 2042 on Steam by writing a program for a classifier which we will train to predict the most common words in a review based on whether the review is positive or negative and the date the review was most recently updated."
   ]
  },
  {
   "cell_type": "markdown",
   "metadata": {},
   "source": [
    "\n",
    "## Data Gathering: \n",
    "\n",
    "The first step in this project was to gather the data. To download reviews on Steam, we can use the Steam API. The Steam API is a web API which allows us to access data from the Steam store and community pages. For Python, we can import the `steamreviews` library to access the API. The following code makes a request to the API for some reviews of Battlefield 2042, and saves the results to a pandas dataframe."
   ]
  },
  {
   "cell_type": "code",
   "execution_count": null,
   "metadata": {},
   "outputs": [],
   "source": [
    "import csv\n",
    "import pandas as pd\n",
    "import matplotlib.pyplot as plt\n",
    "import numpy as np\n",
    "import nltk\n",
    "import steamreviews\n",
    "\n",
    "# Set the app ID for Battlefield 2042\n",
    "app_id = 1517290\n",
    "\n",
    "# Set the request parameters\n",
    "request_params = dict()\n",
    "request_params['review_type'] = 'all'\n",
    "request_params['filter'] = 'all'\n",
    "request_params['day_range'] = '1'\n",
    "request_params['language'] = 'english'\n",
    "request_params['purchase_type'] = 'steam'\n",
    "\n",
    "# Fetch the reviews using the steamreviews library\n",
    "review_dict, query_count = steamreviews.download_reviews_for_app_id(app_id, chosen_request_params=request_params)\n",
    "\n",
    "# Create a list to store the review data\n",
    "review_data = []\n",
    "\n",
    "# Iterate over the reviews in review_dict\n",
    "for review_id in review_dict['reviews']:\n",
    "    # Extract the desired values from the review\n",
    "    review_text = review_dict['reviews'][review_id]['review']\n",
    "    latest_update = review_dict['reviews'][review_id]['timestamp_updated']\n",
    "    is_recommended = review_dict['reviews'][review_id]['voted_up']\n",
    "\n",
    "    # Append the review data to the list\n",
    "    review_data.append([review_id, review_text, latest_update, is_recommended])\n",
    "\n",
    "# Create a pandas DataFrame from the review data\n",
    "df = pd.DataFrame(review_data, columns=['review_id', 'review_text', 'latest_update', 'is_recommended'])\n",
    "\n",
    "# Print the DataFrame\n",
    "print(df)\n"
   ]
  },
  {
   "cell_type": "markdown",
   "metadata": {
    "tags": []
   },
   "source": [
    "[appID = 1517290] expected #reviews = 80451\n",
    "\n",
    "      review_id                                        review_text  \\      latest_update  is_recommended  \n",
    "\n",
    "0     153250869  My good friends in the NTABC gaming group reco...   0        1702163585            True  \n",
    "\n",
    "1     153250298                                  Absolutley Great!   1        1702163017            True  \n",
    "\n",
    "2     153244819  Super boring not fun at all and super boring¨\\n\\n   2        1702157746           False  \n",
    "\n",
    "3     153244702                                under rated game fs   3        1702157625            True  \n",
    "\n",
    "4     153242987                                     Cringy as hell   4        1702156183           False  \n",
    "\n",
    "...         ...                                                ...   ...             ...             ...  \n",
    "\n",
    "2291  153477311  The big battles are fun. I did was not playing...   2291     1702426784            True  \n",
    "\n",
    "2292  153381807  Games aight. I do love joining loosing games t...   2292     1702310302            True  \n",
    "\n",
    "2293  153444017  I avoided this game for a long time due to the...   2293     1702389257            True  \n",
    "\n",
    "2294  153443143  (Only jumped in a quarter into season 6)\\nHone...   2294     1702388319            True  \n",
    "\n",
    "2295  153355918  They've done a lot for the game since the horr...   2295     1702276913            True  \n",
    "\n",
    "[2296 rows x 4 columns]\n"
   ]
  },
  {
   "cell_type": "markdown",
   "metadata": {},
   "source": [
    "## Data Ethics: \n",
    "\n",
    "When collecting data, it is important to consider the ethics of the data collection and how mistakes or oversights in the data collection process can skew our results. In this particular example, we are considering reviews in English on the Steam store. Because this game is available on other digital distribution platforms for the PC, on gaming consoles (XBox, PlayStation), and in other countries, we must recognize that this data set is a subset of a larger data set. This means that any conclusions we draw from this data set may not be applicable to the entirety of public opinion on the game as a whole. "
   ]
  },
  {
   "cell_type": "markdown",
   "metadata": {},
   "source": [
    "\n",
    "## Munging, Wrangling, and Cleaning Data: \n",
    "\n",
    "The next step in this project is to clean the data. This means removing any data that is not relevant to our analysis, and making sure that the data is in a format that is easy to work with. In this case, we will remove any reviews that are not in English, and follow by removing any \"stop words\" from the review text itself. \n",
    "- I have chosen to remove non-English reviews because I am not familiar enough with other languages nor do I trust online translation services enough to be confident that I can accurately translate reviews into English.\n",
    "- I have chosen to remove stop words because they do not provide any useful information about the review itself. Examples of stop words include \"the\", \"a\", \"of\", and other words which are common in the English language but do not convey individual meaning without context."
   ]
  },
  {
   "cell_type": "code",
   "execution_count": null,
   "metadata": {},
   "outputs": [],
   "source": []
  },
  {
   "cell_type": "markdown",
   "metadata": {},
   "source": [
    "\n",
    "## Analysis: Use a classification algorithm (multinomial or gaussian) OR regression to analyze your data. You should explain:\n",
    "- The theory behind the classification or regression you perform,\n",
    "- Why you chose the variables you did to focus on,\n",
    "- Each step of the code, which you should include on the website,\n",
    "- The results your model/analysis comes to and what they mean.\n"
   ]
  },
  {
   "cell_type": "markdown",
   "metadata": {},
   "source": [
    "\n",
    "## Pretty Pictures: \n",
    "\n",
    "Whether you run a regression or classification analysis you should help the reader understand your data by using a plot of some kind. \n",
    "\n",
    "Classification Algorithms - show the distribution of the data before you run the classification algorithm - histograms for multinomial classifications and gaussian curves for gaussian classification. (The code should also be included for these visualizations)\n",
    "\n",
    "These pictures should be helpful to you when explaining the theory behind the models you produce. \n"
   ]
  },
  {
   "cell_type": "markdown",
   "metadata": {},
   "source": [
    "\n",
    "## Grading\n",
    "\n",
    "### Information Provided\n",
    "\n",
    "- Introduction. Helps orient the reader at the beginning of the tutorial and explains what they will be learning. \n",
    "\n",
    "- Data Gathering. Clearly explains the techniques that can be used with examples.\n",
    "\n",
    "- Data Ethics. Clearly explains the unintended consequences of some data techniques and how to avoid bias and misrepresentation of information. \n",
    "\n",
    "- Data Cleaning. Clearly explains the difficulties faced by data scientists in data collection and standardization, and how to manage and manipulate data so that it can be helpful. \n",
    "\n",
    "- Data Analysis. Code, images, and documentation clearly present what can be learned from data using one of the techniques we learned in class. \n",
    "\n",
    "### Presentation of Information\n",
    "\n",
    "- Understanding. After reading through the tutorial, does an uninformed reader feel informed about the topic and data science? Would a reader who already knew about the topic/data science feel like they learned more about it? \n",
    "\n",
    "- Readability. Is the information explained in a grammatically correct way that allows the reader to easily understand what they are looking at?\n",
    "\n",
    "- Code. Is the code well written, well documented, reproducible, and does it help the reader understand the tutorial? Does it give good examples of specific techniques? \n",
    "\n",
    "- Style. Does the website look like it was made in 1995 or is there some styling that helps the reader focus, refer back to previous sections when they would like to revisit the material, and understand what they should be reading next.\n",
    "\n",
    "- Images. Are the appropriate images used to help explain concepts throughout the website? Are labels and colors done appropriately so that the reader can understand the charts provided? \n",
    "\n",
    "- Citations. All data, code, and information originating from outside sources should be properly and consistently cited. \n"
   ]
  }
 ],
 "metadata": {
  "kernelspec": {
   "display_name": "Python 3",
   "language": "python",
   "name": "python3"
  },
  "language_info": {
   "codemirror_mode": {
    "name": "ipython",
    "version": 3
   },
   "file_extension": ".py",
   "mimetype": "text/x-python",
   "name": "python",
   "nbconvert_exporter": "python",
   "pygments_lexer": "ipython3",
   "version": "3.11.5"
  }
 },
 "nbformat": 4,
 "nbformat_minor": 2
}
